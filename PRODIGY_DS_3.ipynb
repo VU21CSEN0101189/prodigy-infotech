{
  "nbformat": 4,
  "nbformat_minor": 0,
  "metadata": {
    "colab": {
      "provenance": [],
      "authorship_tag": "ABX9TyPskF/VqKRYhw4Bz2bwycd+",
      "include_colab_link": true
    },
    "kernelspec": {
      "name": "python3",
      "display_name": "Python 3"
    },
    "language_info": {
      "name": "python"
    }
  },
  "cells": [
    {
      "cell_type": "markdown",
      "metadata": {
        "id": "view-in-github",
        "colab_type": "text"
      },
      "source": [
        "<a href=\"https://colab.research.google.com/github/VU21CSEN0101189/prodigy-infotech/blob/main/PRODIGY_DS_3.ipynb\" target=\"_parent\"><img src=\"https://colab.research.google.com/assets/colab-badge.svg\" alt=\"Open In Colab\"/></a>"
      ]
    },
    {
      "cell_type": "code",
      "execution_count": 4,
      "metadata": {
        "colab": {
          "base_uri": "https://localhost:8080/"
        },
        "id": "JBLlulDroJAo",
        "outputId": "2c5ed88a-ad4b-496f-d549-9f40c1141027"
      },
      "outputs": [
        {
          "output_type": "stream",
          "name": "stdout",
          "text": [
            "Accuracy: 1.0\n",
            "|--- education_secondary <= 0.50\n",
            "|   |--- class: no\n",
            "|--- education_secondary >  0.50\n",
            "|   |--- campaign <= 3.50\n",
            "|   |   |--- class: no\n",
            "|   |--- campaign >  3.50\n",
            "|   |   |--- class: yes\n",
            "\n"
          ]
        }
      ],
      "source": [
        "import pandas as pd\n",
        "from sklearn.model_selection import train_test_split\n",
        "from sklearn.tree import DecisionTreeClassifier, export_text\n",
        "from sklearn.metrics import accuracy_score\n",
        "\n",
        "# Load the dataset (modified to load data directly into the code)\n",
        "data = [\n",
        "    {'age': 25, 'job': 'admin.', 'marital': 'single', 'education': 'primary', 'default': 'no', 'balance': 215, 'housing': 'yes', 'loan': 'no', 'contact': 'cellular', 'day': 'thu', 'month': 'aug', 'duration': 151, 'campaign': 1, 'pdays': 999, 'previous': 0, 'poutcome': 'nonexistent', 'y': 'no'},\n",
        "    {'age': 42, 'job': 'admin.', 'marital': 'married', 'education': 'secondary', 'default': 'no', 'balance': 317, 'housing': 'yes', 'loan': 'yes', 'contact': 'cellular', 'day': 'thu', 'month': 'aug', 'duration': 182, 'campaign': 2, 'pdays': 7, 'previous': 0, 'poutcome': 'nonexistent', 'y': 'no'}\n",
        "    # Add the rest of the data here...\n",
        "]\n",
        "\n",
        "# Add more datasets to the data list\n",
        "for i in range(2):\n",
        "    for j in range(1, 16):\n",
        "        data.append({\n",
        "            'age': 30 + i * 10 + j,\n",
        "            'job': 'admin.' if j % 2 == 0 else 'blue-collar',\n",
        "            'marital': 'married' if j % 3 == 0 else 'single',\n",
        "            'education': 'secondary' if j % 5 == 0 else 'tertiary',\n",
        "            'default': 'no' if j % 7 == 0 else 'yes',\n",
        "            'balance': 250 + i * 10 + j,\n",
        "            'housing': 'yes' if j % 2 == 0 else 'no',\n",
        "            'loan': 'yes' if j % 3 == 0 else 'no',\n",
        "            'contact': 'cellular',\n",
        "            'day': 'mon',\n",
        "            'month': 'jan',\n",
        "            'duration': 100 + j,\n",
        "            'campaign': j,\n",
        "            'pdays': 10 * j,\n",
        "            'previous': j % 3,\n",
        "            'poutcome': 'success' if j % 4 == 0 else 'failure',\n",
        "            'y': 'yes' if j % 5 == 0 else 'no'\n",
        "        })\n",
        "\n",
        "# Convert the data into a DataFrame\n",
        "df = pd.DataFrame(data)\n",
        "\n",
        "# Split the dataset into features and target variable\n",
        "X = df.drop('y', axis=1)\n",
        "y = df['y']\n",
        "\n",
        "# Convert categorical variables into dummy/indicator variables\n",
        "X = pd.get_dummies(X)\n",
        "\n",
        "# Split the dataset into training and testing sets\n",
        "X_train, X_test, y_train, y_test = train_test_split(X, y, test_size=0.2, random_state=42)\n",
        "\n",
        "# Initialize and train the decision tree classifier\n",
        "clf = DecisionTreeClassifier(random_state=42)\n",
        "clf.fit(X_train, y_train)\n",
        "\n",
        "# Predict the target variable for the test set\n",
        "y_pred = clf.predict(X_test)\n",
        "\n",
        "# Calculate the accuracy of the model\n",
        "accuracy = accuracy_score(y_test, y_pred)\n",
        "print(\"Accuracy:\", accuracy)\n",
        "\n",
        "# Display the decision tree\n",
        "tree_rules = export_text(clf, feature_names=list(X.columns))\n",
        "print(tree_rules)\n"
      ]
    }
  ]
}